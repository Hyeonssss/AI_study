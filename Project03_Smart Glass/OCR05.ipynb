{
 "cells": [
  {
   "cell_type": "code",
   "execution_count": 73,
   "id": "6820a641",
   "metadata": {},
   "outputs": [
    {
     "data": {
      "text/plain": [
       "'2112'"
      ]
     },
     "execution_count": 73,
     "metadata": {},
     "output_type": "execute_result"
    }
   ],
   "source": [
    "import cv2\n",
    "import numpy as np\n",
    "from PIL import Image\n",
    "from matplotlib import pyplot as plt\n",
    "import pytesseract\n",
    "import re\n",
    "import math\n",
    "import tensorflow as tf\n",
    "\n",
    "\n",
    "global busNum, busLicenseNum\n",
    "busNum = '2112'\n",
    "busLicenseNum = '6211'\n",
    "# img = './Image/cut_img.JPEG'\n",
    "img = './Image/sample3.jpg'\n",
    "\n",
    "\n",
    "def OCR(img):\n",
    "    ## Original Image Load\n",
    "    box = cv2.imread(img)\n",
    "    \n",
    "    ## 배경 Gray로 설정\n",
    "    gray = cv2.cvtColor(box, cv2.COLOR_RGB2GRAY)\n",
    "\n",
    "    ## 이미지 사이즈 정규화(확대)\n",
    "    gray = cv2.resize(gray, None, fx = 3, fy = 3, interpolation = cv2.INTER_CUBIC)\n",
    "\n",
    "    ## 이미지 블러처리하기\n",
    "    blur = cv2.GaussianBlur(gray, (5,5), 0)\n",
    "\n",
    "    ## 이미지 흑백 대조하기, 최적 임계값을 자동으로 추출하는 Otsus 사용\n",
    "    ret, thresh = cv2.threshold(gray, 0, 255, cv2.THRESH_OTSU | cv2.THRESH_BINARY_INV)\n",
    "\n",
    "    ## 확장을 위한 커널 생성\n",
    "    rect_kern = cv2.getStructuringElement(cv2.MORPH_RECT, (5,5))\n",
    "\n",
    "    ## 글씨 이미지 크기 확장\n",
    "    dilation = cv2.dilate(thresh, rect_kern, iterations = 1)\n",
    "\n",
    "    # find contours of regions of interest within license plate\n",
    "    try:\n",
    "        contours, hierarchy = cv2.findContours(dilation, cv2.RETR_TREE, cv2.CHAIN_APPROX_SIMPLE)\n",
    "    except:\n",
    "        ret_img, contours, hierarchy = cv2.findContours(dilation, cv2.RETR_TREE, cv2.CHAIN_APPROX_SIMPLE)\n",
    "\n",
    "    # sort contours left-to-right\n",
    "    sorted_contours = sorted(contours, key=lambda ctr: cv2.boundingRect(ctr)[0])\n",
    "\n",
    "    # create copy of gray image\n",
    "    im2 = gray.copy()\n",
    "\n",
    "    # create blank string to hold license plate number\n",
    "    plate_num = \"\"\n",
    "        \n",
    "    try:\n",
    "        text = pytesseract.image_to_string(im2, config='-c tessedit_char_whitelist=0123456789 --psm 8 --oem 3')\n",
    "        # clean tesseract text by removing any unwanted blank spaces\n",
    "        plate_num = re.sub('[\\W_]+', '', text)\n",
    "    except: \n",
    "        text = None\n",
    "            \n",
    "    if plate_num != None:\n",
    "        return plate_num[-4:]\n",
    "    else:\n",
    "        return False\n",
    "\n",
    "    \n",
    "def tfBusNum(store_img):\n",
    "    for img in store_img:\n",
    "        try:\n",
    "            preBusNum = str(OCR(img)).strip()\n",
    "            print(f'busNum: {busNum}')\n",
    "            print(f'prediction busNum: {preBusNum}')\n",
    "            if preBusNum == str(busNum) or preBusNum == str(busLicenseNum):\n",
    "                return True  \n",
    "        except:\n",
    "            continue\n",
    "    else:\n",
    "        return False\n",
    "    \n",
    "    \n",
    "OCR(img)"
   ]
  }
 ],
 "metadata": {
  "kernelspec": {
   "display_name": "Python [conda env:ai_env] *",
   "language": "python",
   "name": "conda-env-ai_env-py"
  },
  "language_info": {
   "codemirror_mode": {
    "name": "ipython",
    "version": 3
   },
   "file_extension": ".py",
   "mimetype": "text/x-python",
   "name": "python",
   "nbconvert_exporter": "python",
   "pygments_lexer": "ipython3",
   "version": "3.9.4"
  }
 },
 "nbformat": 4,
 "nbformat_minor": 5
}
