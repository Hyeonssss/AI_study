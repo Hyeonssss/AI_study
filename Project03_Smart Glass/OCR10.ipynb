{
 "cells": [
  {
   "cell_type": "markdown",
   "id": "3096415e",
   "metadata": {},
   "source": [
    "# 번호판 인식 모델"
   ]
  },
  {
   "cell_type": "code",
   "execution_count": 20,
   "id": "289df0d4",
   "metadata": {},
   "outputs": [
    {
     "data": {
      "text/plain": [
       "'6259'"
      ]
     },
     "execution_count": 20,
     "metadata": {},
     "output_type": "execute_result"
    }
   ],
   "source": [
    "import cv2\n",
    "import numpy as np\n",
    "from PIL import Image\n",
    "from matplotlib import pyplot as plt\n",
    "import pytesseract\n",
    "import re\n",
    "import math\n",
    "import tensorflow as tf\n",
    "\n",
    "\n",
    "# ------------ 번호판 ------------\n",
    "# img = './yolov5/runs/hub/exp/crops/license_plate/v01.jpg' # X\n",
    "# img = './yolov5/runs/hub/exp/crops/license_plate/v02.jpg' # X\n",
    "# img = './yolov5/runs/hub/exp/crops/license_plate/v03.jpg' # 0 blur_2\n",
    "img = './yolov5/runs/hub/exp/crops/license_plate/v04.jpg' # 0 blur_2\n",
    "\n",
    "\n",
    "def OCR_pn(img):\n",
    "    img = cv2.imread(img)\n",
    "    gray = cv2.cvtColor(img, cv2.COLOR_RGB2GRAY)\n",
    "    gray = cv2.resize(gray, None, fx = 3, fy = 3, interpolation = cv2.INTER_CUBIC)\n",
    "    blur = cv2.GaussianBlur(gray, (5,5), 0)\n",
    "\n",
    "    # ------------------- 기울기 조정 start -------------------\n",
    "    canny = cv2.Canny(blur, 700, 350, apertureSize = 5, L2gradient = True)\n",
    "    lines = cv2.HoughLinesP(canny, 1, np.pi / 180, 50, minLineLength = 3, maxLineGap = 150)\n",
    "\n",
    "    angle = 0\n",
    "    maxdim = 0\n",
    "    if not (lines is None):\n",
    "        for i in lines:\n",
    "            xdim = i[0][2] - i[0][0]\n",
    "            ydim = i[0][3] - i[0][1]\n",
    "            iangle = math.atan2(ydim, xdim)*180/np.pi\n",
    "            dim = math.sqrt((xdim * xdim) + (ydim * ydim))\n",
    "            if abs(angle) < 40 and maxdim < dim:\n",
    "                maxdim = dim\n",
    "                angle =iangle\n",
    "\n",
    "    roih, roiw, roic = img.shape\n",
    "    matrix = cv2.getRotationMatrix2D((roiw/2, roih/2), angle, 1)\n",
    "    roi = cv2.warpAffine(img, matrix, (roiw, roih))\n",
    "    # ------------------- 기울기 조정 fin -------------------\n",
    "\n",
    "    gray_2 = cv2.cvtColor(roi, cv2.COLOR_RGB2GRAY)\n",
    "    gray_2 = cv2.resize(gray_2, None, fx = 3, fy = 3, interpolation = cv2.INTER_CUBIC)\n",
    "    blur_2 = cv2.GaussianBlur(gray_2, (5,5), 0)\n",
    "\n",
    "    ## 이미지 흑백 대조하기, 최적 임계값을 자동으로 추출하는 Otsus 사용\n",
    "    ret, thresh = cv2.threshold(blur_2, 0, 255, cv2.THRESH_OTSU | cv2.THRESH_BINARY_INV)\n",
    "\n",
    "    ## 확장을 위한 커널 생성\n",
    "    rect_kern = cv2.getStructuringElement(cv2.MORPH_RECT, (5,5))\n",
    "\n",
    "    ## 글씨 이미지 크기 확장\n",
    "    dilation = cv2.dilate(thresh, rect_kern, iterations = 1)\n",
    "\n",
    "    blur_3 = cv2.GaussianBlur(dilation, (5,5), 0)\n",
    "\n",
    "    plate_num = \"\"\n",
    "\n",
    "    try:\n",
    "        text = pytesseract.image_to_string(blur_2, config='-c tessedit_char_whitelist=0123456789 --psm 7 --oem 1')\n",
    "\n",
    "        plate_num = re.sub('[\\W_]+', '', text)            \n",
    "    except:\n",
    "        text = None\n",
    "        \n",
    "    if plate_num != None:\n",
    "        return plate_num[-4:]\n",
    "    else:\n",
    "        return False\n",
    "\n",
    "OCR_pn()"
   ]
  },
  {
   "cell_type": "markdown",
   "id": "2fee1224",
   "metadata": {},
   "source": [
    "# 옆번호 인식 모델"
   ]
  },
  {
   "cell_type": "code",
   "execution_count": 22,
   "id": "4788fa55",
   "metadata": {
    "scrolled": false
   },
   "outputs": [
    {
     "name": "stdout",
     "output_type": "stream",
     "text": [
      "<class 'str'>\n"
     ]
    }
   ],
   "source": [
    "import cv2\n",
    "import numpy as np\n",
    "from PIL import Image\n",
    "from matplotlib import pyplot as plt\n",
    "import pytesseract\n",
    "import re\n",
    "import math\n",
    "import tensorflow as tf\n",
    "\n",
    "\n",
    "# ------------ 옆번호 ------------\n",
    "# img = './yolov5/runs/hub/exp/crops/bus_num_fr/v06.jpg' # X\n",
    "img = './yolov5/runs/hub/exp/crops/bus_num_fr/v07.jpg' # 0 blur_2 (임계값 처리)\n",
    "# img = './yolov5/runs/hub/exp/crops/bus_num_fr/v08.jpg' # X\n",
    "# img = './yolov5/runs/hub/exp/crops/bus_num_fr/v09.jpg' # X\n",
    "# img = './yolov5/runs/hub/exp/crops/bus_num_fr/v10.jpg' # X\n",
    "# img = './yolov5/runs/hub/exp/crops/bus_num_fr/v11.jpg' # X\n",
    "# img = './yolov5/runs/hub/exp/crops/bus_num_fr/v12.jpg' # X\n",
    "# img = './yolov5/runs/hub/exp/crops/bus_num_fr/v13.jpg' # X\n",
    "\n",
    "def OCR_bn(img):\n",
    "    img = cv2.imread(img)\n",
    "    gray = cv2.cvtColor(img, cv2.COLOR_RGB2GRAY)\n",
    "    gray = cv2.resize(gray, None, fx = 3, fy = 3, interpolation = cv2.INTER_CUBIC)\n",
    "    blur = cv2.GaussianBlur(gray, (5,5), 0)\n",
    "\n",
    "    ## 이미지 흑백 대조하기, 최적 임계값을 자동으로 추출하는 Otsus 사용\n",
    "    ret, thresh = cv2.threshold(blur, 0, 255, cv2.THRESH_OTSU | cv2.THRESH_BINARY_INV)\n",
    "\n",
    "    ## 확장을 위한 커널 생성\n",
    "    rect_kern = cv2.getStructuringElement(cv2.MORPH_RECT, (5,5))\n",
    "\n",
    "    ## 글씨 이미지 크기 확장\n",
    "    dilation = cv2.dilate(thresh, rect_kern, iterations = 1)\n",
    "\n",
    "    blur_2 = cv2.GaussianBlur(dilation, (5,5), 0)\n",
    "\n",
    "    plate_num = \"\"\n",
    "    \n",
    "    try:\n",
    "        text = pytesseract.image_to_string(blur_2, config='-c tessedit_char_whitelist=0123456789 --psm 7 --oem 1')\n",
    "\n",
    "        bus_num = re.sub('[\\W_]+', '', text)            \n",
    "    except:\n",
    "        text = None\n",
    "        \n",
    "    if bus_num != None:\n",
    "        return bus_num[-4:]\n",
    "    else:\n",
    "        return False\n",
    "    \n",
    "OCR_bn(img)"
   ]
  },
  {
   "cell_type": "code",
   "execution_count": null,
   "id": "1b444ae1",
   "metadata": {},
   "outputs": [],
   "source": []
  }
 ],
 "metadata": {
  "kernelspec": {
   "display_name": "Python [conda env:ai_env] *",
   "language": "python",
   "name": "conda-env-ai_env-py"
  },
  "language_info": {
   "codemirror_mode": {
    "name": "ipython",
    "version": 3
   },
   "file_extension": ".py",
   "mimetype": "text/x-python",
   "name": "python",
   "nbconvert_exporter": "python",
   "pygments_lexer": "ipython3",
   "version": "3.9.4"
  }
 },
 "nbformat": 4,
 "nbformat_minor": 5
}
