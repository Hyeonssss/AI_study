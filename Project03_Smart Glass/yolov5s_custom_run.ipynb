{
 "cells": [
  {
   "cell_type": "code",
   "execution_count": 11,
   "id": "641f6864",
   "metadata": {},
   "outputs": [
    {
     "name": "stdout",
     "output_type": "stream",
     "text": [
      "/home/lab01/yolov5\n"
     ]
    },
    {
     "data": {
      "text/plain": [
       "'/home/lab01/yolov5'"
      ]
     },
     "execution_count": 11,
     "metadata": {},
     "output_type": "execute_result"
    }
   ],
   "source": [
    "%cd yolov5"
   ]
  },
  {
   "cell_type": "code",
   "execution_count": 12,
   "id": "90884356",
   "metadata": {},
   "outputs": [],
   "source": [
    "import torch\n",
    "import pandas as pd\n",
    "import cv2\n",
    "import numpy as np\n",
    "from matplotlib import pyplot as plt\n",
    "import pytesseract\n",
    "import re\n",
    "import os\n",
    "\n",
    "\n",
    "from pathlib import Path\n",
    "\n",
    "from models.yolo import Model, attempt_load\n",
    "from utils.general import check_requirements, set_logging\n",
    "from utils.google_utils import attempt_download\n",
    "from utils.torch_utils import select_device\n",
    "\n",
    "# check_requirements(Path(__file__).parent / 'requirements.txt', exclude=('tensorboard', 'pycocotools', 'thop'))\n",
    "# set_logging(verbose=verbose)\n",
    "device = None\n",
    "name = 'yolov5_custom.pt'\n",
    "fname = Path(name).with_suffix('.pt')  # checkpoint filename\n",
    "\n",
    "model = attempt_load(fname, map_location=torch.device('cpu'))\n",
    "model = model.autoshape()  # for file/URI/PIL/cv2/np inputs and NMS\n",
    "device = select_device('0' if torch.cuda.is_available() else 'cpu') if device is None else torch.device(device)"
   ]
  },
  {
   "cell_type": "code",
   "execution_count": 13,
   "id": "565368ed",
   "metadata": {},
   "outputs": [],
   "source": [
    "def objectDetection(img):\n",
    "#     path_pt = '/home/lab19/ai_env_mino/yolov5'\n",
    "#     model = torch.hub._load_local(path_pt, 'custom')\n",
    "    results_img = model(img)\n",
    "    results_img.crop()\n",
    "#     results_img.save()"
   ]
  },
  {
   "cell_type": "code",
   "execution_count": 17,
   "id": "bf214d6e",
   "metadata": {},
   "outputs": [
    {
     "name": "stdout",
     "output_type": "stream",
     "text": [
      "Saved results to runs/hub/exp\n",
      "\n"
     ]
    }
   ],
   "source": [
    "objectDetection('./bus_4_sd.jpg')"
   ]
  },
  {
   "cell_type": "code",
   "execution_count": null,
   "id": "1b072429",
   "metadata": {},
   "outputs": [],
   "source": []
  }
 ],
 "metadata": {
  "kernelspec": {
   "display_name": "Python [conda env:ai_env] *",
   "language": "python",
   "name": "conda-env-ai_env-py"
  },
  "language_info": {
   "codemirror_mode": {
    "name": "ipython",
    "version": 3
   },
   "file_extension": ".py",
   "mimetype": "text/x-python",
   "name": "python",
   "nbconvert_exporter": "python",
   "pygments_lexer": "ipython3",
   "version": "3.9.4"
  }
 },
 "nbformat": 4,
 "nbformat_minor": 5
}
